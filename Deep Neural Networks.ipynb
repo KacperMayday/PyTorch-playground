{
    "cells": [
        {
            "cell_type": "code",
            "execution_count": 1,
            "metadata": {},
            "outputs": [],
            "source": "# !pip install torch torchvision"
        },
        {
            "cell_type": "code",
            "execution_count": 2,
            "metadata": {},
            "outputs": [],
            "source": "import torch\nimport torch.nn as nn\nimport torchvision\nimport pandas as pd\nimport matplotlib.pyplot as plt\nfrom PIL import Image\nimport requests\nfrom io import BytesIO\nimport numpy as np"
        },
        {
            "cell_type": "code",
            "execution_count": 3,
            "metadata": {
                "scrolled": true
            },
            "outputs": [],
            "source": "train_data = torchvision.datasets.MNIST('mnist', \n                                        train=True, \n                                        download=True,\n                                        transform=torchvision.transforms.Compose([torchvision.transforms.ToTensor()]))\ntest_data = torchvision.datasets.MNIST('mnist',\n                                       train=False,\n                                       download=True,\n                                       transform=torchvision.transforms.Compose([torchvision.transforms.ToTensor()]))\n\ntrain_loader = torch.utils.data.DataLoader(dataset=train_data, batch_size=2000, shuffle=True)\nvalidation_loader = torch.utils.data.DataLoader(dataset=test_data, batch_size=5000, shuffle=False)"
        },
        {
            "cell_type": "code",
            "execution_count": 41,
            "metadata": {},
            "outputs": [],
            "source": "in_nodes = 28 * 28\nout_nodes = 10\nhidden_nodes = [500, 300]\nepoch_number = 5\n\nclass Network(nn.Module):\n    \n    def __init__(self):\n        super(Network, self).__init__()\n        self.net = nn.Sequential(nn.Linear(in_nodes, hidden1_nodes),\n                                nn.BatchNorm1d(hidden1_nodes),\n                                nn.ReLU(), \n                                nn.Linear(hidden1_nodes, hidden2_nodes),\n                                nn.BatchNorm1d(hidden2_nodes),\n                                nn.ReLU(), \n                                nn.Linear(hidden2_nodes, out_nodes),\n                                nn.BatchNorm1d(out_nodes))\n    \n    def forward(self, x):\n        return self.net(x)"
        },
        {
            "cell_type": "code",
            "execution_count": 5,
            "metadata": {},
            "outputs": [],
            "source": "def train(model, criterion, train_loader, validation_loader, optimizer, epochs):\n    score = []\n    \n    for epoch in range(epochs):\n        for x, y in train_loader: \n            optimizer.zero_grad()\n            z = model(x.view(-1, 28 * 28))\n            loss = criterion(z, y)\n            loss.backward()\n            optimizer.step()\n        correct = 0\n        \n        for x, y in validation_loader:\n            yhat = model(x.view(-1, 28 * 28))\n            _, label = torch.max(yhat, 1)\n            correct += (label == y).sum().item()\n        \n        accuracy = 100 * (correct / len(test_data))\n        score.append(accuracy)\n        print(\"Epoch: {} Accuracy: {}\".format(epoch,accuracy))\n    \n    plt.plot(score)\n    plt.title('Best accuracy: {}'.format(max(score)))\n    plt.show()"
        },
        {
            "cell_type": "code",
            "execution_count": 43,
            "metadata": {},
            "outputs": [],
            "source": "model = Network()\ncriterion = nn.CrossEntropyLoss()\noptimizer = torch.optim.Adam(model.parameters(), lr=0.01)"
        },
        {
            "cell_type": "code",
            "execution_count": 44,
            "metadata": {
                "scrolled": true
            },
            "outputs": [
                {
                    "name": "stdout",
                    "output_type": "stream",
                    "text": "Epoch: 0 Accuracy: 93.87\nEpoch: 1 Accuracy: 96.73\nEpoch: 2 Accuracy: 97.2\nEpoch: 3 Accuracy: 97.61999999999999\nEpoch: 4 Accuracy: 97.81\n"
                },
                {
                    "data": {
                        "image/png": "[encoded data removed]",
                        "text/plain": "<Figure size 432x288 with 1 Axes>"
                    },
                    "metadata": {
                        "needs_background": "light"
                    },
                    "output_type": "display_data"
                }
            ],
            "source": "train(model, criterion, train_loader, validation_loader, optimizer, epoch_number)"
        },
        {
            "cell_type": "code",
            "execution_count": 55,
            "metadata": {},
            "outputs": [
                {
                    "data": {
                        "image/png": "[encoded data removed]",
                        "text/plain": "<PIL.Image.Image image mode=L size=28x28 at 0x7FE55E9DB128>"
                    },
                    "execution_count": 55,
                    "metadata": {},
                    "output_type": "execute_result"
                }
            ],
            "source": "url = 'https://s3.private.eu-de.cloud-object-storage.appdomain.cloud/neural-network-test-image-recognition/3.png'\nresponse = requests.get(url)\nimg = Image.open(BytesIO(response.content)).convert('L')\nimg"
        },
        {
            "cell_type": "code",
            "execution_count": 56,
            "metadata": {},
            "outputs": [],
            "source": "user_tensor = torch.from_numpy(np.array(img)).float()"
        },
        {
            "cell_type": "code",
            "execution_count": 57,
            "metadata": {},
            "outputs": [
                {
                    "name": "stdout",
                    "output_type": "stream",
                    "text": "3\n"
                }
            ],
            "source": "yhat = model(user_tensor.view(-1, 28 * 28))\n_, label = torch.max(yhat, 1)\nprint(label.tolist()[0])"
        },
        {
            "cell_type": "code",
            "execution_count": null,
            "metadata": {},
            "outputs": [],
            "source": ""
        }
    ],
    "metadata": {
        "kernelspec": {
            "display_name": "Python 3.6",
            "language": "python",
            "name": "python3"
        },
        "language_info": {
            "codemirror_mode": {
                "name": "ipython",
                "version": 3
            },
            "file_extension": ".py",
            "mimetype": "text/x-python",
            "name": "python",
            "nbconvert_exporter": "python",
            "pygments_lexer": "ipython3",
            "version": "3.6.9"
        }
    },
    "nbformat": 4,
    "nbformat_minor": 1
}