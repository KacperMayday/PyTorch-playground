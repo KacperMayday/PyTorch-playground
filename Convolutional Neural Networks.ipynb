{
    "cells": [
        {
            "cell_type": "code",
            "execution_count": 1,
            "metadata": {},
            "outputs": [],
            "source": "# !pip install torch torchvision"
        },
        {
            "cell_type": "code",
            "execution_count": 2,
            "metadata": {},
            "outputs": [],
            "source": "import torch\nimport torch.nn as nn\nimport torchvision\nimport pandas as pd\nimport matplotlib.pyplot as plt\nfrom PIL import Image\nimport requests\nfrom io import BytesIO\nimport numpy as np"
        },
        {
            "cell_type": "code",
            "execution_count": 3,
            "metadata": {},
            "outputs": [],
            "source": "train_data = torchvision.datasets.MNIST('mnist', \n                                        train=True, \n                                        download=True,\n                                        transform=torchvision.transforms.Compose([torchvision.transforms.ToTensor()]))\ntest_data = torchvision.datasets.MNIST('mnist',\n                                       train=False,\n                                       download=True,\n                                       transform=torchvision.transforms.Compose([torchvision.transforms.ToTensor()]))\n\ntrain_loader = torch.utils.data.DataLoader(dataset=train_data, batch_size=1000, shuffle=True)\nvalidation_loader = torch.utils.data.DataLoader(dataset=test_data, batch_size=5000, shuffle=False)"
        },
        {
            "cell_type": "code",
            "execution_count": 4,
            "metadata": {},
            "outputs": [],
            "source": "class Network(nn.Module):\n    \n    def __init__(self):\n        super(Network, self).__init__()\n        \n        self.conv0 = nn.Conv2d(1, 32, kernel_size=5)\n        self.conv_bn0 = nn.BatchNorm2d(32)\n        self.pool0 = nn.AvgPool2d(kernel_size=2)\n        \n        self.conv1 = nn.Conv2d(32, 64, kernel_size=5)\n        self.conv_bn1 = nn.BatchNorm2d(64)\n        self.pool1 = nn.MaxPool2d(kernel_size=2)\n\n        self.net0 = nn.Linear(1024,200)\n        self.net_bn0 = nn.BatchNorm1d(200)\n        self.net1 = nn.Linear(200, 10)\n        self.net_bn1 = nn.BatchNorm1d(10)\n        \n    def forward(self, x):\n        x = self.conv0(x)\n        x = self.conv_bn0(x)\n        x = torch.relu(x)\n        x = self.pool0(x)\n        \n        x = self.conv1(x)\n        x = self.conv_bn1(x)\n        x = torch.relu(x)\n        x = self.pool1(x)\n        \n        x = x.view(x.size(0), -1)\n        \n        x = self.net0(x)\n        x = self.net_bn0(x)\n        \n        x = self.net1(x)\n        x = self.net_bn1(x)\n        return x"
        },
        {
            "cell_type": "code",
            "execution_count": 5,
            "metadata": {},
            "outputs": [],
            "source": "def train(model, criterion, train_loader, validation_loader, optimizer, epochs):\n    score = []\n    \n    for epoch in range(epochs):\n        model.train()\n        for x, y in train_loader: \n            optimizer.zero_grad()\n            z = model(x)\n            loss = criterion(z, y)\n            loss.backward()\n            optimizer.step()\n        correct = 0\n        \n        model.eval()\n        for x, y in validation_loader:\n            yhat = model(x)\n            _, label = torch.max(yhat, 1)\n            correct += (label == y).sum().item()\n        \n        accuracy = 100 * (correct / len(test_data))\n        score.append(accuracy)\n        print(\"Epoch: {} Accuracy: {}\".format(epoch+1,accuracy))\n    \n    plt.plot(score)\n    plt.title('Best accuracy: {}'.format(max(score)))\n    plt.show()"
        },
        {
            "cell_type": "code",
            "execution_count": 6,
            "metadata": {},
            "outputs": [
                {
                    "name": "stdout",
                    "output_type": "stream",
                    "text": "Epoch: 1 Accuracy: 96.87\nEpoch: 2 Accuracy: 98.42\nEpoch: 3 Accuracy: 98.74000000000001\nEpoch: 4 Accuracy: 98.85000000000001\nEpoch: 5 Accuracy: 98.97\n"
                },
                {
                    "data": {
                        "image/png": "[encoded data removed]",
                        "text/plain": "<Figure size 432x288 with 1 Axes>"
                    },
                    "metadata": {
                        "needs_background": "light"
                    },
                    "output_type": "display_data"
                }
            ],
            "source": "model = Network()\ncriterion = nn.CrossEntropyLoss()\noptimizer = torch.optim.SGD(model.parameters(), lr=0.02, momentum=0.9)\ntrain(model, criterion, train_loader, validation_loader, optimizer, 5)"
        },
        {
            "cell_type": "code",
            "execution_count": 7,
            "metadata": {},
            "outputs": [
                {
                    "data": {
                        "image/png": "[encoded data removed]",
                        "text/plain": "<Figure size 432x288 with 1 Axes>"
                    },
                    "metadata": {
                        "needs_background": "light"
                    },
                    "output_type": "display_data"
                },
                {
                    "name": "stdout",
                    "output_type": "stream",
                    "text": "yhat:  tensor([6])\n"
                },
                {
                    "data": {
                        "image/png": "[encoded data removed]",
                        "text/plain": "<Figure size 432x288 with 1 Axes>"
                    },
                    "metadata": {
                        "needs_background": "light"
                    },
                    "output_type": "display_data"
                },
                {
                    "name": "stdout",
                    "output_type": "stream",
                    "text": "yhat:  tensor([0])\n"
                },
                {
                    "data": {
                        "image/png": "[encoded data removed]",
                        "text/plain": "<Figure size 432x288 with 1 Axes>"
                    },
                    "metadata": {
                        "needs_background": "light"
                    },
                    "output_type": "display_data"
                },
                {
                    "name": "stdout",
                    "output_type": "stream",
                    "text": "yhat:  tensor([7])\n"
                }
            ],
            "source": "def show_data(data_sample):\n    plt.imshow(data_sample[0].numpy().reshape(28, 28), cmap='gray')\n    plt.title('y = '+ str(data_sample[1].item()))\n\ncount = 0\nfor x, y in torch.utils.data.DataLoader(dataset=test_data, batch_size=1):\n    z = model(x)\n    _, yhat = torch.max(z, 1)\n    if yhat != y:\n        show_data((x, y))\n        plt.show()\n        print(\"yhat: \",yhat)\n        count += 1\n    if count >= 3:\n        break  "
        },
        {
            "cell_type": "code",
            "execution_count": 26,
            "metadata": {},
            "outputs": [
                {
                    "data": {
                        "image/png": "[encoded data removed]",
                        "text/plain": "<PIL.Image.Image image mode=L size=28x28 at 0x7F7C743C1D68>"
                    },
                    "execution_count": 26,
                    "metadata": {},
                    "output_type": "execute_result"
                }
            ],
            "source": "url = 'https://s3.private.eu-de.cloud-object-storage.appdomain.cloud/neural-network-test-image-recognition/2.png'\nresponse = requests.get(url)\nimg = Image.open(BytesIO(response.content)).convert('L')\nimg"
        },
        {
            "cell_type": "code",
            "execution_count": 27,
            "metadata": {},
            "outputs": [
                {
                    "name": "stdout",
                    "output_type": "stream",
                    "text": "2\n"
                }
            ],
            "source": "user_tensor = torch.from_numpy(np.array(img)).float()\nyhat = model(user_tensor.view(1, 1, 28, 28))\n_, label = torch.max(yhat, 1)\nprint(label.tolist()[0])"
        },
        {
            "cell_type": "code",
            "execution_count": 28,
            "metadata": {},
            "outputs": [
                {
                    "data": {
                        "image/png": "[encoded data removed]",
                        "text/plain": "<PIL.Image.Image image mode=L size=28x28 at 0x7F7C73D024E0>"
                    },
                    "execution_count": 28,
                    "metadata": {},
                    "output_type": "execute_result"
                }
            ],
            "source": "url = 'https://s3.private.eu-de.cloud-object-storage.appdomain.cloud/neural-network-test-image-recognition/3.png'\nresponse = requests.get(url)\nimg = Image.open(BytesIO(response.content)).convert('L')\nimg"
        },
        {
            "cell_type": "code",
            "execution_count": 29,
            "metadata": {},
            "outputs": [
                {
                    "name": "stdout",
                    "output_type": "stream",
                    "text": "3\n"
                }
            ],
            "source": "user_tensor = torch.from_numpy(np.array(img)).float()\nyhat = model(user_tensor.view(1, 1, 28, 28))\n_, label = torch.max(yhat, 1)\nprint(label.tolist()[0])"
        },
        {
            "cell_type": "code",
            "execution_count": null,
            "metadata": {},
            "outputs": [],
            "source": ""
        }
    ],
    "metadata": {
        "kernelspec": {
            "display_name": "Python 3.6",
            "language": "python",
            "name": "python3"
        },
        "language_info": {
            "codemirror_mode": {
                "name": "ipython",
                "version": 3
            },
            "file_extension": ".py",
            "mimetype": "text/x-python",
            "name": "python",
            "nbconvert_exporter": "python",
            "pygments_lexer": "ipython3",
            "version": "3.6.9"
        }
    },
    "nbformat": 4,
    "nbformat_minor": 1
}